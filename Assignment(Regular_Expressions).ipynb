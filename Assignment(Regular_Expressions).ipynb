{
 "cells": [
  {
   "cell_type": "code",
   "execution_count": 10,
   "id": "030369f0",
   "metadata": {},
   "outputs": [
    {
     "name": "stdout",
     "output_type": "stream",
     "text": [
      "Python:Exercises::PHP:exercises:\n"
     ]
    }
   ],
   "source": [
    "#1. Write a Python program to replace all occurrences of a space, comma, or dot with a colon.\n",
    "\n",
    "import regex as re\n",
    "\n",
    "target_string='Python Exercises, PHP exercises.'\n",
    "replaced_string=re.sub(r'[\\s,.]',':',target_string)\n",
    "print(replaced_string)"
   ]
  },
  {
   "cell_type": "code",
   "execution_count": 24,
   "id": "b5b026e4",
   "metadata": {},
   "outputs": [
    {
     "name": "stdout",
     "output_type": "stream",
     "text": [
      "                  SUMMARY\n",
      "0           hello, world!\n",
      "1              XXXXX test\n",
      "2  123four, five:; six...\n"
     ]
    },
    {
     "data": {
      "text/plain": [
       "0      hello world\n",
       "1             test\n",
       "2    four five six\n",
       "Name: SUMMARY, dtype: object"
      ]
     },
     "execution_count": 24,
     "metadata": {},
     "output_type": "execute_result"
    }
   ],
   "source": [
    "#2. Create a dataframe using the dictionary below and remove everything (commas (,), !, XXXX, ;, etc.) from the columns except words.\n",
    "\n",
    "import pandas as pd\n",
    "\n",
    "df=pd.DataFrame({'SUMMARY' : ['hello, world!', 'XXXXX test', '123four, five:; six...']})\n",
    "print(df)\n",
    "\n",
    "df['SUMMARY'].str.replace('[,!X:;.\\d]+',\"\",regex=True)"
   ]
  },
  {
   "cell_type": "code",
   "execution_count": 25,
   "id": "b8634c78",
   "metadata": {},
   "outputs": [
    {
     "name": "stdout",
     "output_type": "stream",
     "text": [
      "['hell', 'welc', 'worl', 'pyth']\n"
     ]
    }
   ],
   "source": [
    "#3. Create a function in python to find all words that are at least 4 characters long in a string.The use of the re.compile() method is mandatory\n",
    "\n",
    "def find_word_4(target_string):\n",
    "    regex_pattern=re.compile(r\"\\w{4}\")\n",
    "    result=regex_pattern.findall(target_string)\n",
    "    print(result)\n",
    "\n",
    "find_word_4('hello! welcome to world of python')   "
   ]
  },
  {
   "cell_type": "code",
   "execution_count": 26,
   "id": "b0fb9b08",
   "metadata": {},
   "outputs": [
    {
     "name": "stdout",
     "output_type": "stream",
     "text": [
      "['hello', 'welco', 'world', 'pytho', 'very', 'easy', 'langu', 'age', 'for', 'progr', 'ammin']\n"
     ]
    }
   ],
   "source": [
    "#4. Create a function in python to find all three, four, and five character words in a string. The use of the re.compile() method is mandatory.\n",
    "\n",
    "def find_word(target_string):\n",
    "    regex_pattern=re.compile(r\"\\w{3,5}\")\n",
    "    result=regex_pattern.findall(target_string)\n",
    "    print(result)\n",
    "    \n",
    "find_word('hello! welcome to world of python.It is very easy language for programming')    "
   ]
  },
  {
   "cell_type": "code",
   "execution_count": 44,
   "id": "8561c95e",
   "metadata": {},
   "outputs": [
    {
     "name": "stdout",
     "output_type": "stream",
     "text": [
      "example .com\n",
      "hr@fliprobo .com\n",
      "github .com\n",
      "Hello Data Science World\n",
      "Data Scientist\n"
     ]
    }
   ],
   "source": [
    "#5. Create a function in Python to remove the parenthesis in a list of strings. The use of the re.compile() method is mandatory.\n",
    "\n",
    "def rmv_parenthesis(sample_text):\n",
    "    for string in sample_text:\n",
    "        pattern=re.compile(r\"[()]\")\n",
    "        removed_par=pattern.sub(\"\",string)\n",
    "        print(removed_par)\n",
    "        \n",
    "rmv_parenthesis([\"example (.com)\", \"hr@fliprobo (.com)\", \"github (.com)\", \"Hello (Data Science World)\", \"Data (Scientist)\"])"
   ]
  },
  {
   "cell_type": "code",
   "execution_count": 9,
   "id": "77f11404",
   "metadata": {},
   "outputs": [
    {
     "name": "stdout",
     "output_type": "stream",
     "text": [
      "[\"example\"]\n"
     ]
    }
   ],
   "source": [
    "#6. Write a python program to remove the parenthesis area from the text stored in the text file using Regular Expression.\n",
    "\n",
    "with open(r\"C:\\Users\\HARIOM\\Desktop\\Data science (Bhaumik)\\Python practise\\Q-6_sample_text.txt\") as file:\n",
    "    for line in file:\n",
    "        rmv_parenthesis=re.sub(r\"\\b\\s[(].?\\w+.*[)]\",\"\",line)\n",
    "        print(rmv_parenthesis)\n",
    "    "
   ]
  },
  {
   "cell_type": "code",
   "execution_count": 213,
   "id": "e2aad7f7",
   "metadata": {},
   "outputs": [
    {
     "name": "stdout",
     "output_type": "stream",
     "text": [
      "['Importance', 'Of', 'Regular', 'Expressions', 'In', 'Python']\n"
     ]
    }
   ],
   "source": [
    "#7. Write a regular expression in Python to split a string into uppercase letters.\n",
    "\n",
    "sample_text='ImportanceOfRegularExpressionsInPython'\n",
    "pattern=r'[A-Z][^A-Z]*'\n",
    "\n",
    "split=re.findall(pattern,sample_text)\n",
    "print(split)\n"
   ]
  },
  {
   "cell_type": "code",
   "execution_count": 48,
   "id": "1868c276",
   "metadata": {},
   "outputs": [
    {
     "name": "stdout",
     "output_type": "stream",
     "text": [
      "RegularExpression 1IsAn 2ImportantTopic 3InPython\n"
     ]
    }
   ],
   "source": [
    "#8. Create a function in python to insert spaces between words starting with numbers.\n",
    "\n",
    "def insert_space(string):\n",
    "    pattern=r\"([A-Za-z]+)(\\d+)\"\n",
    "    space_inserted=re.sub(pattern,r'\\1 \\2',string)\n",
    "    print(space_inserted)\n",
    "    \n",
    "insert_space('RegularExpression1IsAn2ImportantTopic3InPython')  "
   ]
  },
  {
   "cell_type": "code",
   "execution_count": 49,
   "id": "a05a14c5",
   "metadata": {},
   "outputs": [
    {
     "name": "stdout",
     "output_type": "stream",
     "text": [
      "RegularExpression 1 IsAn 2 ImportantTopic 3 InPython\n"
     ]
    }
   ],
   "source": [
    "#9. Create a function in python to insert spaces between words starting with capital letters or with numbers. \n",
    "\n",
    "def insert_space_1(string):\n",
    "    pattern=r\"([A-Za-z]+)(\\d+)\"\n",
    "    space_inserted=re.sub(pattern,r'\\1 \\2 ',string)\n",
    "    print(space_inserted)\n",
    "\n",
    "insert_space_1('RegularExpression1IsAn2ImportantTopic3InPython')    "
   ]
  },
  {
   "cell_type": "code",
   "execution_count": 367,
   "id": "490722da",
   "metadata": {},
   "outputs": [
    {
     "data": {
      "text/html": [
       "<div>\n",
       "<style scoped>\n",
       "    .dataframe tbody tr th:only-of-type {\n",
       "        vertical-align: middle;\n",
       "    }\n",
       "\n",
       "    .dataframe tbody tr th {\n",
       "        vertical-align: top;\n",
       "    }\n",
       "\n",
       "    .dataframe thead th {\n",
       "        text-align: right;\n",
       "    }\n",
       "</style>\n",
       "<table border=\"1\" class=\"dataframe\">\n",
       "  <thead>\n",
       "    <tr style=\"text-align: right;\">\n",
       "      <th></th>\n",
       "      <th>Country</th>\n",
       "      <th>Region</th>\n",
       "      <th>Happiness Rank</th>\n",
       "      <th>Happiness Score</th>\n",
       "      <th>Standard Error</th>\n",
       "      <th>Economy (GDP per Capita)</th>\n",
       "      <th>Family</th>\n",
       "      <th>Health (Life Expectancy)</th>\n",
       "      <th>Freedom</th>\n",
       "      <th>Trust (Government Corruption)</th>\n",
       "      <th>Generosity</th>\n",
       "      <th>Dystopia Residual</th>\n",
       "      <th>first_five_letters</th>\n",
       "    </tr>\n",
       "  </thead>\n",
       "  <tbody>\n",
       "    <tr>\n",
       "      <th>0</th>\n",
       "      <td>Switzerland</td>\n",
       "      <td>Western Europe</td>\n",
       "      <td>1</td>\n",
       "      <td>7.587</td>\n",
       "      <td>0.03411</td>\n",
       "      <td>1.39651</td>\n",
       "      <td>1.34951</td>\n",
       "      <td>0.94143</td>\n",
       "      <td>0.66557</td>\n",
       "      <td>0.41978</td>\n",
       "      <td>0.29678</td>\n",
       "      <td>2.51738</td>\n",
       "      <td>Switze</td>\n",
       "    </tr>\n",
       "    <tr>\n",
       "      <th>1</th>\n",
       "      <td>Iceland</td>\n",
       "      <td>Western Europe</td>\n",
       "      <td>2</td>\n",
       "      <td>7.561</td>\n",
       "      <td>0.04884</td>\n",
       "      <td>1.30232</td>\n",
       "      <td>1.40223</td>\n",
       "      <td>0.94784</td>\n",
       "      <td>0.62877</td>\n",
       "      <td>0.14145</td>\n",
       "      <td>0.43630</td>\n",
       "      <td>2.70201</td>\n",
       "      <td>Icelan</td>\n",
       "    </tr>\n",
       "    <tr>\n",
       "      <th>2</th>\n",
       "      <td>Denmark</td>\n",
       "      <td>Western Europe</td>\n",
       "      <td>3</td>\n",
       "      <td>7.527</td>\n",
       "      <td>0.03328</td>\n",
       "      <td>1.32548</td>\n",
       "      <td>1.36058</td>\n",
       "      <td>0.87464</td>\n",
       "      <td>0.64938</td>\n",
       "      <td>0.48357</td>\n",
       "      <td>0.34139</td>\n",
       "      <td>2.49204</td>\n",
       "      <td>Denmar</td>\n",
       "    </tr>\n",
       "    <tr>\n",
       "      <th>3</th>\n",
       "      <td>Norway</td>\n",
       "      <td>Western Europe</td>\n",
       "      <td>4</td>\n",
       "      <td>7.522</td>\n",
       "      <td>0.03880</td>\n",
       "      <td>1.45900</td>\n",
       "      <td>1.33095</td>\n",
       "      <td>0.88521</td>\n",
       "      <td>0.66973</td>\n",
       "      <td>0.36503</td>\n",
       "      <td>0.34699</td>\n",
       "      <td>2.46531</td>\n",
       "      <td>Norway</td>\n",
       "    </tr>\n",
       "    <tr>\n",
       "      <th>4</th>\n",
       "      <td>Canada</td>\n",
       "      <td>North America</td>\n",
       "      <td>5</td>\n",
       "      <td>7.427</td>\n",
       "      <td>0.03553</td>\n",
       "      <td>1.32629</td>\n",
       "      <td>1.32261</td>\n",
       "      <td>0.90563</td>\n",
       "      <td>0.63297</td>\n",
       "      <td>0.32957</td>\n",
       "      <td>0.45811</td>\n",
       "      <td>2.45176</td>\n",
       "      <td>Canada</td>\n",
       "    </tr>\n",
       "    <tr>\n",
       "      <th>...</th>\n",
       "      <td>...</td>\n",
       "      <td>...</td>\n",
       "      <td>...</td>\n",
       "      <td>...</td>\n",
       "      <td>...</td>\n",
       "      <td>...</td>\n",
       "      <td>...</td>\n",
       "      <td>...</td>\n",
       "      <td>...</td>\n",
       "      <td>...</td>\n",
       "      <td>...</td>\n",
       "      <td>...</td>\n",
       "      <td>...</td>\n",
       "    </tr>\n",
       "    <tr>\n",
       "      <th>153</th>\n",
       "      <td>Rwanda</td>\n",
       "      <td>Sub-Saharan Africa</td>\n",
       "      <td>154</td>\n",
       "      <td>3.465</td>\n",
       "      <td>0.03464</td>\n",
       "      <td>0.22208</td>\n",
       "      <td>0.77370</td>\n",
       "      <td>0.42864</td>\n",
       "      <td>0.59201</td>\n",
       "      <td>0.55191</td>\n",
       "      <td>0.22628</td>\n",
       "      <td>0.67042</td>\n",
       "      <td>Rwanda</td>\n",
       "    </tr>\n",
       "    <tr>\n",
       "      <th>154</th>\n",
       "      <td>Benin</td>\n",
       "      <td>Sub-Saharan Africa</td>\n",
       "      <td>155</td>\n",
       "      <td>3.340</td>\n",
       "      <td>0.03656</td>\n",
       "      <td>0.28665</td>\n",
       "      <td>0.35386</td>\n",
       "      <td>0.31910</td>\n",
       "      <td>0.48450</td>\n",
       "      <td>0.08010</td>\n",
       "      <td>0.18260</td>\n",
       "      <td>1.63328</td>\n",
       "      <td>NaN</td>\n",
       "    </tr>\n",
       "    <tr>\n",
       "      <th>155</th>\n",
       "      <td>Syria</td>\n",
       "      <td>Middle East and Northern Africa</td>\n",
       "      <td>156</td>\n",
       "      <td>3.006</td>\n",
       "      <td>0.05015</td>\n",
       "      <td>0.66320</td>\n",
       "      <td>0.47489</td>\n",
       "      <td>0.72193</td>\n",
       "      <td>0.15684</td>\n",
       "      <td>0.18906</td>\n",
       "      <td>0.47179</td>\n",
       "      <td>0.32858</td>\n",
       "      <td>NaN</td>\n",
       "    </tr>\n",
       "    <tr>\n",
       "      <th>156</th>\n",
       "      <td>Burundi</td>\n",
       "      <td>Sub-Saharan Africa</td>\n",
       "      <td>157</td>\n",
       "      <td>2.905</td>\n",
       "      <td>0.08658</td>\n",
       "      <td>0.01530</td>\n",
       "      <td>0.41587</td>\n",
       "      <td>0.22396</td>\n",
       "      <td>0.11850</td>\n",
       "      <td>0.10062</td>\n",
       "      <td>0.19727</td>\n",
       "      <td>1.83302</td>\n",
       "      <td>Burund</td>\n",
       "    </tr>\n",
       "    <tr>\n",
       "      <th>157</th>\n",
       "      <td>Togo</td>\n",
       "      <td>Sub-Saharan Africa</td>\n",
       "      <td>158</td>\n",
       "      <td>2.839</td>\n",
       "      <td>0.06727</td>\n",
       "      <td>0.20868</td>\n",
       "      <td>0.13995</td>\n",
       "      <td>0.28443</td>\n",
       "      <td>0.36453</td>\n",
       "      <td>0.10731</td>\n",
       "      <td>0.16681</td>\n",
       "      <td>1.56726</td>\n",
       "      <td>NaN</td>\n",
       "    </tr>\n",
       "  </tbody>\n",
       "</table>\n",
       "<p>158 rows × 13 columns</p>\n",
       "</div>"
      ],
      "text/plain": [
       "         Country                           Region  Happiness Rank  \\\n",
       "0    Switzerland                   Western Europe               1   \n",
       "1        Iceland                   Western Europe               2   \n",
       "2        Denmark                   Western Europe               3   \n",
       "3         Norway                   Western Europe               4   \n",
       "4         Canada                    North America               5   \n",
       "..           ...                              ...             ...   \n",
       "153       Rwanda               Sub-Saharan Africa             154   \n",
       "154        Benin               Sub-Saharan Africa             155   \n",
       "155        Syria  Middle East and Northern Africa             156   \n",
       "156      Burundi               Sub-Saharan Africa             157   \n",
       "157         Togo               Sub-Saharan Africa             158   \n",
       "\n",
       "     Happiness Score  Standard Error  Economy (GDP per Capita)   Family  \\\n",
       "0              7.587         0.03411                   1.39651  1.34951   \n",
       "1              7.561         0.04884                   1.30232  1.40223   \n",
       "2              7.527         0.03328                   1.32548  1.36058   \n",
       "3              7.522         0.03880                   1.45900  1.33095   \n",
       "4              7.427         0.03553                   1.32629  1.32261   \n",
       "..               ...             ...                       ...      ...   \n",
       "153            3.465         0.03464                   0.22208  0.77370   \n",
       "154            3.340         0.03656                   0.28665  0.35386   \n",
       "155            3.006         0.05015                   0.66320  0.47489   \n",
       "156            2.905         0.08658                   0.01530  0.41587   \n",
       "157            2.839         0.06727                   0.20868  0.13995   \n",
       "\n",
       "     Health (Life Expectancy)  Freedom  Trust (Government Corruption)  \\\n",
       "0                     0.94143  0.66557                        0.41978   \n",
       "1                     0.94784  0.62877                        0.14145   \n",
       "2                     0.87464  0.64938                        0.48357   \n",
       "3                     0.88521  0.66973                        0.36503   \n",
       "4                     0.90563  0.63297                        0.32957   \n",
       "..                        ...      ...                            ...   \n",
       "153                   0.42864  0.59201                        0.55191   \n",
       "154                   0.31910  0.48450                        0.08010   \n",
       "155                   0.72193  0.15684                        0.18906   \n",
       "156                   0.22396  0.11850                        0.10062   \n",
       "157                   0.28443  0.36453                        0.10731   \n",
       "\n",
       "     Generosity  Dystopia Residual first_five_letters  \n",
       "0       0.29678            2.51738             Switze  \n",
       "1       0.43630            2.70201             Icelan  \n",
       "2       0.34139            2.49204             Denmar  \n",
       "3       0.34699            2.46531             Norway  \n",
       "4       0.45811            2.45176             Canada  \n",
       "..          ...                ...                ...  \n",
       "153     0.22628            0.67042             Rwanda  \n",
       "154     0.18260            1.63328                NaN  \n",
       "155     0.47179            0.32858                NaN  \n",
       "156     0.19727            1.83302             Burund  \n",
       "157     0.16681            1.56726                NaN  \n",
       "\n",
       "[158 rows x 13 columns]"
      ]
     },
     "execution_count": 367,
     "metadata": {},
     "output_type": "execute_result"
    }
   ],
   "source": [
    "#10. Use the github link below to read the data and create a dataframe. After creating the dataframe extract the first 6 letters of each country and store in the dataframe under a new column called first_five_letters.\n",
    "\n",
    "import pandas as pd\n",
    "df=pd.read_csv('https://raw.githubusercontent.com/dsrscientist/DSData/master/happiness_score_dataset.csv')\n",
    "\n",
    "df['first_five_letters']=df['Country'].str.extract(r'(\\w{6})')\n",
    "df"
   ]
  },
  {
   "cell_type": "code",
   "execution_count": 50,
   "id": "d470e871",
   "metadata": {},
   "outputs": [
    {
     "name": "stdout",
     "output_type": "stream",
     "text": [
      "Not matching the string\n",
      "Matched the string\n"
     ]
    }
   ],
   "source": [
    "#11. Write a Python program to match a string that contains only upper and lowercase letters, numbers, and underscores.\n",
    "\n",
    "def match_string(target_string):\n",
    "    pattern=r\"^\\w+$\"\n",
    "    if re.match(pattern,target_string):\n",
    "        print('Matched the string')\n",
    "    else:\n",
    "        print('Not matching the string')\n",
    "\n",
    "match_string(\"welcome to the world of python\")\n",
    "\n",
    "match_string(\"welcome_to_the_world_of_python\")\n",
    "        "
   ]
  },
  {
   "cell_type": "code",
   "execution_count": 51,
   "id": "e59dc448",
   "metadata": {},
   "outputs": [
    {
     "name": "stdout",
     "output_type": "stream",
     "text": [
      "Not matching the string\n",
      "Matched the string\n"
     ]
    }
   ],
   "source": [
    "#12. Write a Python program where a string will start with a specific number.\n",
    "\n",
    "def match_string_num(target_string):\n",
    "    pattern=\"\\d+\"\n",
    "    if re.match(pattern,target_string):\n",
    "        print('Matched the string')\n",
    "    else:\n",
    "        print('Not matching the string')\n",
    "\n",
    "match_string_num('welcome to the world of python123')\n",
    "\n",
    "match_string_num('123welcome to the world of python')"
   ]
  },
  {
   "cell_type": "code",
   "execution_count": 52,
   "id": "2e6480cb",
   "metadata": {},
   "outputs": [
    {
     "name": "stdout",
     "output_type": "stream",
     "text": [
      "192.168.2.100\n"
     ]
    }
   ],
   "source": [
    "#13. Write a Python program to remove leading zeros from an IP address.\n",
    "\n",
    "def ip_address_zero_rmv(target_string):\n",
    "    pattern=r\"\\b0+\"\n",
    "    result=re.sub(pattern,\"\",target_string)\n",
    "    print(result)\n",
    "\n",
    "ip_address_zero_rmv('192.168.002.0100')"
   ]
  },
  {
   "cell_type": "code",
   "execution_count": 137,
   "id": "77cc6f15",
   "metadata": {},
   "outputs": [
    {
     "name": "stdout",
     "output_type": "stream",
     "text": [
      "['August 15th 1947']\n"
     ]
    }
   ],
   "source": [
    "#14. Write a regular expression in python to match a date string in the form of Month name followed by day number and year stored in a text file.\n",
    "\n",
    "with open(r\"C:\\Users\\HARIOM\\Desktop\\Data science (Bhaumik)\\Python practise\\Q-14_sample_text.txt\") as file:\n",
    "    for line in file:\n",
    "        pattern=r'[A-Za-z]+\\s\\d{2}[A-Za-z]*\\s\\d{4}'\n",
    "        dates=re.findall(pattern,line)\n",
    "        print(dates)\n",
    "        "
   ]
  },
  {
   "cell_type": "code",
   "execution_count": 73,
   "id": "e0ba9fd5",
   "metadata": {},
   "outputs": [
    {
     "name": "stdout",
     "output_type": "stream",
     "text": [
      "fox : matched the string\n",
      "dog : matched the string\n",
      "horse : not matching the string\n"
     ]
    }
   ],
   "source": [
    "#15. Write a Python program to search some literals strings in a string.\n",
    "\n",
    "patterns=['fox', 'dog', 'horse']\n",
    "\n",
    "for pattern in patterns:\n",
    "    string='The quick brown fox jumps over the lazy dog.'\n",
    "    if re.findall(pattern,string):\n",
    "        print(pattern,': matched the string')\n",
    "    else:\n",
    "        print(pattern,': not matching the string')\n"
   ]
  },
  {
   "cell_type": "code",
   "execution_count": 107,
   "id": "b3aa1094",
   "metadata": {},
   "outputs": [
    {
     "name": "stdout",
     "output_type": "stream",
     "text": [
      "matched_string:fox,location:(16, 19)\n"
     ]
    }
   ],
   "source": [
    "#16. Write a Python program to search a literals string in a string and also find the location within the original string where the pattern occurs.\n",
    "\n",
    "def matched_string_location(pattern,string):\n",
    "    matched_string=re.finditer(pattern,string)\n",
    "    for match in matched_string:\n",
    "        print(f\"matched_string:{match.group()},location:{match.start(),match.end()}\")\n",
    "\n",
    "matched_string_location(r'(fox)','The quick brown fox jumps over the lazy dog.')    "
   ]
  },
  {
   "cell_type": "code",
   "execution_count": 79,
   "id": "b2d0bfc7",
   "metadata": {},
   "outputs": [
    {
     "name": "stdout",
     "output_type": "stream",
     "text": [
      "['exercises', 'exercises', 'exercises']\n"
     ]
    }
   ],
   "source": [
    "#17. Write a Python program to find the substrings within a string.\n",
    "\n",
    "def find_substring(pattern,string):\n",
    "    substring=re.findall(pattern,string)\n",
    "    print(substring)\n",
    "    \n",
    "find_substring(r'exercises','Python exercises, PHP exercises, C# exercises')"
   ]
  },
  {
   "cell_type": "code",
   "execution_count": 106,
   "id": "6818b5d9",
   "metadata": {},
   "outputs": [
    {
     "name": "stdout",
     "output_type": "stream",
     "text": [
      "substring:exercises,position:(7, 16)\n",
      "substring:exercises,position:(22, 31)\n",
      "substring:exercises,position:(36, 45)\n"
     ]
    }
   ],
   "source": [
    "#18. Write a Python program to find the occurrence and position of the substrings within a string.\n",
    "\n",
    "def substring_occ_position(pattern,text):\n",
    "    substring=re.finditer(pattern,text)\n",
    "    for match in substring:\n",
    "        print(f\"substring:{match.group()},position:{match.start(),match.end()}\")\n",
    "\n",
    "substring_occ_position(r'exercises','Python exercises, PHP exercises, C# exercises')"
   ]
  },
  {
   "cell_type": "code",
   "execution_count": 64,
   "id": "21c3cca2",
   "metadata": {},
   "outputs": [
    {
     "name": "stdout",
     "output_type": "stream",
     "text": [
      "15-05-2021\n"
     ]
    }
   ],
   "source": [
    "#19. Write a Python program to convert a date of yyyy-mm-dd format to dd-mm-yyyy format.\n",
    "\n",
    "def convert_date_format(string):\n",
    "    pattern=r'(\\d{4})(-\\d{2}-)(\\d{2})'\n",
    "    new_format=re.sub(pattern,r'\\3\\2\\1',string)\n",
    "    print(new_format)        \n",
    "    \n",
    "convert_date_format('2021-05-15')    "
   ]
  },
  {
   "cell_type": "code",
   "execution_count": 61,
   "id": "69236042",
   "metadata": {},
   "outputs": [
    {
     "name": "stdout",
     "output_type": "stream",
     "text": [
      "['01.12', '145.8', '3.01', '27.25', '0.25']\n"
     ]
    }
   ],
   "source": [
    "#20. Create a function in python to find all decimal numbers with a precision of 1 or 2 in a string. The use of the re.compile() method is mandatory.\n",
    "\n",
    "def decimal_precision(target_string):\n",
    "    regex=re.compile(r'\\d+\\.\\d{1,2}\\b')\n",
    "    all_decimals=regex.findall(target_string)\n",
    "    print(all_decimals)\n",
    "    \n",
    "decimal_precision(\"01.12 0132.123 2.31875 145.8 3.01 27.25 0.25\")"
   ]
  },
  {
   "cell_type": "code",
   "execution_count": 111,
   "id": "0d1d06b1",
   "metadata": {},
   "outputs": [
    {
     "name": "stdout",
     "output_type": "stream",
     "text": [
      "number:1,position:(18, 19)\n",
      "number:2,position:(25, 26)\n",
      "number:3,position:(42, 43)\n"
     ]
    }
   ],
   "source": [
    "#21. Write a Python program to separate and print the numbers and their position of a given string.\n",
    "\n",
    "def number_position(string):\n",
    "    pattern=r'\\d+'\n",
    "    regex=re.compile(pattern)\n",
    "    numbers=regex.finditer(string)\n",
    "    for match in numbers:\n",
    "        print(f\"number:{match.group()},position:{match.start(),match.end()}\")\n",
    "    \n",
    "number_position('RegularExpression 1 IsAn 2 ImportantTopic 3 InPython') \n",
    "    "
   ]
  },
  {
   "cell_type": "code",
   "execution_count": 34,
   "id": "3a888d39",
   "metadata": {},
   "outputs": [
    {
     "name": "stdout",
     "output_type": "stream",
     "text": [
      "['947', '896', '926', '524', '734', '950', '642']\n",
      "950\n"
     ]
    }
   ],
   "source": [
    "#22. Write a regular expression in python program to extract maximum/largest numeric value from a string.\n",
    "\n",
    "string='My marks in each semester are: 947, 896, 926, 524, 734, 950, 642'\n",
    "pattern='\\d+'\n",
    "all_numbers=re.findall(pattern,string)\n",
    "print(all_numbers)\n",
    "\n",
    "#re.findall give output as list\n",
    "max_value=max(all_numbers)\n",
    "print(max_value)"
   ]
  },
  {
   "cell_type": "code",
   "execution_count": 21,
   "id": "2691b1f1",
   "metadata": {},
   "outputs": [
    {
     "name": "stdout",
     "output_type": "stream",
     "text": [
      "Regular Expression Is An Important Topic In Python \n"
     ]
    }
   ],
   "source": [
    "#23. Create a function in python to insert spaces between words starting with capital letters.\n",
    "\n",
    "def insert_space_capital(target_string):\n",
    "    pattern=r'([A-Z][a-z]*)'\n",
    "    result=re.sub(pattern,r'\\1 ',target_string)\n",
    "    print(result)\n",
    "\n",
    "insert_space('RegularExpressionIsAnImportantTopicInPython')"
   ]
  },
  {
   "cell_type": "code",
   "execution_count": 11,
   "id": "a2e40d00",
   "metadata": {},
   "outputs": [
    {
     "name": "stdout",
     "output_type": "stream",
     "text": [
      "['Importance', 'Of', 'Regular', 'Expressions', 'In', 'Python']\n"
     ]
    }
   ],
   "source": [
    "#24. Python regex to find sequences of one upper case letter followed by lower case letters.\n",
    "\n",
    "def upper_followed_bylower(string):\n",
    "    pattern=r'[A-Z][a-z]*'\n",
    "    result=re.findall(pattern,string)\n",
    "    print(result)\n",
    "    \n",
    "upper_followed_bylower('Importance Of Regular Expressions In Python')    "
   ]
  },
  {
   "cell_type": "code",
   "execution_count": 4,
   "id": "946bb50e",
   "metadata": {},
   "outputs": [
    {
     "name": "stdout",
     "output_type": "stream",
     "text": [
      "Hello hello world\n"
     ]
    }
   ],
   "source": [
    "#25. Write a Python program to remove continuous duplicate words from Sentence using Regular Expression.\n",
    "\n",
    "string='Hello hello world world'\n",
    "pattern=r'\\b(\\w+)(?:\\W+\\1\\b)+'\n",
    "result=re.sub(pattern,r'\\1',string)\n",
    "print(result)"
   ]
  },
  {
   "cell_type": "code",
   "execution_count": 96,
   "id": "4e1f04c5",
   "metadata": {},
   "outputs": [
    {
     "name": "stdout",
     "output_type": "stream",
     "text": [
      "Accept the string\n"
     ]
    }
   ],
   "source": [
    "#26. Write a python program using RegEx to accept string ending with alphanumeric character.\n",
    "\n",
    "def string_ending_with_alnum(string):\n",
    "    pattern=r'[A-Za-z0-9]$'\n",
    "    if re.findall(pattern,string):\n",
    "        print('Accept the string')\n",
    "    else:\n",
    "        print('not valid!')\n",
    " \n",
    "string_ending_with_alnum(\"Importance Of Regular Expressions In Python123\")\n"
   ]
  },
  {
   "cell_type": "code",
   "execution_count": 7,
   "id": "01dada58",
   "metadata": {},
   "outputs": [
    {
     "name": "stdout",
     "output_type": "stream",
     "text": [
      "['#Doltiwal', '#xyzabc', '#Demonetization']\n"
     ]
    }
   ],
   "source": [
    "#27. Write a python program using RegEx to extract the hashtags.\n",
    "\n",
    "def extract_hashtag(string):\n",
    "    regex=re.compile(r'#\\w+')\n",
    "    matches=regex.findall(string)\n",
    "    print(matches)\n",
    "\n",
    "extract_hashtag(\"\"\"RT @kapil_kausik: #Doltiwal I mean #xyzabc is \"hurt\" by #Demonetization as the same has rendered USELESS <ed><U+00A0><U+00BD><ed><U+00B1><U+0089> \"acquired funds\" No wo\"\"\")    "
   ]
  },
  {
   "cell_type": "code",
   "execution_count": 10,
   "id": "dc7df3c7",
   "metadata": {},
   "outputs": [
    {
     "name": "stdout",
     "output_type": "stream",
     "text": [
      "@Jags123456 Bharat band on 28??<ed><ed>Those who  are protesting #demonetization  are all different party leaders\n"
     ]
    }
   ],
   "source": [
    "#28. Write a python program using RegEx to remove <U+..> like symbols.Check the below sample text, there are strange symbols something of the sort <U+..> all over the place. You need to come up with a general Regex expression that will cover all such symbols.\n",
    "\n",
    "def remove_symbols(string):\n",
    "    regex=re.compile(r'<U\\+[A-Z0-9]+>')\n",
    "    result=regex.sub(\"\",string)\n",
    "    print(result)\n",
    "    \n",
    "remove_symbols(\"@Jags123456 Bharat band on 28??<ed><U+00A0><U+00BD><ed><U+00B8><U+0082>Those who  are protesting #demonetization  are all different party leaders\")    "
   ]
  },
  {
   "cell_type": "code",
   "execution_count": 138,
   "id": "1f3bd7d5",
   "metadata": {},
   "outputs": [
    {
     "name": "stdout",
     "output_type": "stream",
     "text": [
      "['12-09-1992', '15-12-1999']\n"
     ]
    }
   ],
   "source": [
    "#29. Write a python program to extract dates from the text stored in the text file.\n",
    "\n",
    "with open(r\"C:\\Users\\HARIOM\\Desktop\\Data science (Bhaumik)\\Python practise\\Q-29_sample_text.txt\") as file:\n",
    "    for line in file:\n",
    "        pattern=r'\\d{2}-\\d{2}-\\d{4}'\n",
    "        matches=re.findall(pattern,line)\n",
    "        print(matches)  "
   ]
  },
  {
   "cell_type": "code",
   "execution_count": 22,
   "id": "d32ea0f0",
   "metadata": {},
   "outputs": [
    {
     "name": "stdout",
     "output_type": "stream",
     "text": [
      "following example creates ArrayList a capacity elements. 4 elements added ArrayList ArrayList trimmed accordingly.\n"
     ]
    }
   ],
   "source": [
    "#30. Create a function in python to remove all words from a string of length between 2 and 4.\n",
    "\n",
    "def remove_words(string):\n",
    "    pattern=r'\\b\\w{2,4}\\s+\\b'\n",
    "    new_string=re.sub(pattern,\"\",string)\n",
    "    print(new_string)\n",
    "    \n",
    "remove_words(\"The following example creates an ArrayList with a capacity of 50 elements. 4 elements are then added to the ArrayList and the ArrayList is trimmed accordingly.\")    "
   ]
  }
 ],
 "metadata": {
  "kernelspec": {
   "display_name": "Python 3 (ipykernel)",
   "language": "python",
   "name": "python3"
  },
  "language_info": {
   "codemirror_mode": {
    "name": "ipython",
    "version": 3
   },
   "file_extension": ".py",
   "mimetype": "text/x-python",
   "name": "python",
   "nbconvert_exporter": "python",
   "pygments_lexer": "ipython3",
   "version": "3.11.5"
  }
 },
 "nbformat": 4,
 "nbformat_minor": 5
}
